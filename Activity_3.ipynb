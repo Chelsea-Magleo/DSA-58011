{
  "nbformat": 4,
  "nbformat_minor": 0,
  "metadata": {
    "colab": {
      "provenance": [],
      "authorship_tag": "ABX9TyMnPvAVURqoFl/2XVVXjyQw",
      "include_colab_link": true
    },
    "kernelspec": {
      "name": "python3",
      "display_name": "Python 3"
    },
    "language_info": {
      "name": "python"
    }
  },
  "cells": [
    {
      "cell_type": "markdown",
      "metadata": {
        "id": "view-in-github",
        "colab_type": "text"
      },
      "source": [
        "<a href=\"https://colab.research.google.com/github/Chelsea-Magleo/DSA-58011/blob/main/Activity_3.ipynb\" target=\"_parent\"><img src=\"https://colab.research.google.com/assets/colab-badge.svg\" alt=\"Open In Colab\"/></a>"
      ]
    },
    {
      "cell_type": "code",
      "execution_count": 35,
      "metadata": {
        "colab": {
          "base_uri": "https://localhost:8080/"
        },
        "id": "8fdKzsayQHVo",
        "outputId": "b33c25a8-f1d5-48bd-9ce9-22744856fdf1"
      },
      "outputs": [
        {
          "output_type": "stream",
          "name": "stdout",
          "text": [
            "Push Element:1\n",
            "Push Element:2\n",
            "Push Element:3\n",
            "Push Element:4\n",
            "Push Element:5\n",
            "The elements in the stack are:['1', '2', '3', '4', '5']\n",
            "The 3 elements from the top:\n",
            "1\n",
            "2\n",
            "3\n"
          ]
        }
      ],
      "source": [
        "from ast import Index\n",
        "# Stack implementation in python\n",
        "\n",
        "#Creating a stack\n",
        "def create_stack():\n",
        "  stack = []\n",
        "  return stack\n",
        "\n",
        "#Creating an empty stack\n",
        "def is_empty(stack):\n",
        "  return len(stack) == 0\n",
        "\n",
        "#Adding items into the stack\n",
        "def push(stack, item):\n",
        "  stack.append(item)\n",
        "  print(\"Push Element:\" + item)\n",
        "\n",
        "#Removing an element from the stack\n",
        "def pop(stack):\n",
        "  if (is_empty(stack)):\n",
        "    return \"The stack is empty\"\n",
        "  return stack.pop()\n",
        "\n",
        "stack = create_stack()\n",
        "push(stack, str(1))\n",
        "push(stack, str(2))\n",
        "push(stack, str(3))\n",
        "push(stack, str(4))\n",
        "push(stack, str(5))\n",
        "\n",
        "print(\"The elements in the stack are:\"+str(stack))\n",
        "\n",
        "#Additional codes to pop 3 elements from the top of the stack\n",
        "print(\"The 3 elements from the top:\")\n",
        "print(stack.pop(0))\n",
        "print(stack.pop(0))\n",
        "print(stack.pop(0))"
      ]
    },
    {
      "cell_type": "markdown",
      "source": [
        "Revised Code: What will be the statement to determine the length of the stack?"
      ],
      "metadata": {
        "id": "8SeWLatvfeKQ"
      }
    },
    {
      "cell_type": "code",
      "source": [
        "stack = [1, 2, 3, 4, 5]\n",
        "print(\"Elements\", stack)\n",
        "print(\"The length of the stack:\", len(stack)) #to determined the length of the stack"
      ],
      "metadata": {
        "colab": {
          "base_uri": "https://localhost:8080/"
        },
        "id": "RZgRh9cXfloC",
        "outputId": "9d23e3b4-ab9b-4f15-a429-bd7c6e3535aa"
      },
      "execution_count": 41,
      "outputs": [
        {
          "output_type": "stream",
          "name": "stdout",
          "text": [
            "Elements [1, 2, 3, 4, 5]\n",
            "The length of the stack: 5\n"
          ]
        }
      ]
    }
  ]
}