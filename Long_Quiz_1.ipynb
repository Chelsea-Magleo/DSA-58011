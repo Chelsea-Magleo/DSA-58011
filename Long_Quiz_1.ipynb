{
  "nbformat": 4,
  "nbformat_minor": 0,
  "metadata": {
    "colab": {
      "provenance": [],
      "authorship_tag": "ABX9TyPSQuHDwCtwOCRQ5XYMun/T",
      "include_colab_link": true
    },
    "kernelspec": {
      "name": "python3",
      "display_name": "Python 3"
    },
    "language_info": {
      "name": "python"
    }
  },
  "cells": [
    {
      "cell_type": "markdown",
      "metadata": {
        "id": "view-in-github",
        "colab_type": "text"
      },
      "source": [
        "<a href=\"https://colab.research.google.com/github/Chelsea-Magleo/DSA-58011/blob/main/Long_Quiz_1.ipynb\" target=\"_parent\"><img src=\"https://colab.research.google.com/assets/colab-badge.svg\" alt=\"Open In Colab\"/></a>"
      ]
    },
    {
      "cell_type": "code",
      "execution_count": 29,
      "metadata": {
        "colab": {
          "base_uri": "https://localhost:8080/"
        },
        "id": "UxYxQk2KYFXg",
        "outputId": "8b0f7a7a-2d4f-45f9-dcc2-8db4203ae192"
      },
      "outputs": [
        {
          "output_type": "stream",
          "name": "stdout",
          "text": [
            "Full name: ['Mary' 'Chelsea' 'Reigne' 'P.' 'Magleo']\n",
            "Rverse full name: ['Magleo' 'P.' 'Reigne' 'Chelsea' 'Mary']\n"
          ]
        }
      ],
      "source": [
        "import numpy as np\n",
        "array = np.array(['Mary', 'Chelsea', 'Reigne', 'P.', 'Magleo'])\n",
        "print(\"Full name:\",array)\n",
        "arr = np.flipud(array)\n",
        "print(\"Rverse full name:\",arr)"
      ]
    }
  ]
}