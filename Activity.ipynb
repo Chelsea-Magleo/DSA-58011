{
  "nbformat": 4,
  "nbformat_minor": 0,
  "metadata": {
    "colab": {
      "provenance": [],
      "authorship_tag": "ABX9TyOzqG2N0OWGRNWBm7CG+fAv",
      "include_colab_link": true
    },
    "kernelspec": {
      "name": "python3",
      "display_name": "Python 3"
    },
    "language_info": {
      "name": "python"
    }
  },
  "cells": [
    {
      "cell_type": "markdown",
      "metadata": {
        "id": "view-in-github",
        "colab_type": "text"
      },
      "source": [
        "<a href=\"https://colab.research.google.com/github/Chelsea-Magleo/DSA-58011/blob/main/Activity.ipynb\" target=\"_parent\"><img src=\"https://colab.research.google.com/assets/colab-badge.svg\" alt=\"Open In Colab\"/></a>"
      ]
    },
    {
      "cell_type": "markdown",
      "source": [
        "Write a Python program to create an array of 10 integers and display the array items. Access individual elements through indexes and compute for the sum."
      ],
      "metadata": {
        "id": "BbCIRyzSVOmL"
      }
    },
    {
      "cell_type": "code",
      "source": [
        "numbers = [1,2,3,4,5,6,7,8,9,10]\n",
        "print(numbers)\n",
        "a = numbers [2]\n",
        "print(a)\n",
        "b = numbers [5]\n",
        "print(b)\n",
        "\n",
        "print(a+b)"
      ],
      "metadata": {
        "colab": {
          "base_uri": "https://localhost:8080/"
        },
        "id": "QmZRCoDJRPo0",
        "outputId": "22d695de-9985-48f4-93d3-f37479b2ec5d"
      },
      "execution_count": 25,
      "outputs": [
        {
          "output_type": "stream",
          "name": "stdout",
          "text": [
            "[1, 2, 3, 4, 5, 6, 7, 8, 9, 10]\n",
            "3\n",
            "6\n",
            "9\n"
          ]
        }
      ]
    },
    {
      "cell_type": "markdown",
      "source": [
        "Write a Python program to append a new item to the end of the array. Original array: numbers = [1,2,3,4,5,6,7,8,9,10]"
      ],
      "metadata": {
        "id": "OEdtZhmHRQYE"
      }
    },
    {
      "cell_type": "code",
      "execution_count": 2,
      "metadata": {
        "colab": {
          "base_uri": "https://localhost:8080/"
        },
        "id": "PaqxgJc8QLiG",
        "outputId": "e8907367-991c-4f62-a6db-8c6f8f4e40a3"
      },
      "outputs": [
        {
          "output_type": "stream",
          "name": "stdout",
          "text": [
            "[1, 2, 3, 4, 5, 6, 7, 8, 9, 10, [12, 19]]\n"
          ]
        }
      ],
      "source": [
        "numbers = [1,2,3,4,5,6,7,8,9,10]\n",
        "new_item = [12,19]\n",
        "numbers.append(new_item)\n",
        "print (numbers)"
      ]
    },
    {
      "cell_type": "markdown",
      "source": [
        "Write a Python program to insert a new item before the second element in an existing array. Original array: numbers = [1,2,3,4,5,6,7,8,9,10]"
      ],
      "metadata": {
        "id": "p0SQMncMSi_s"
      }
    },
    {
      "cell_type": "code",
      "source": [
        "numbers = [1,2,3,4,5,6,7,8,9,10]\n",
        "numbers.insert(2, \"30\")\n",
        "print(numbers)"
      ],
      "metadata": {
        "colab": {
          "base_uri": "https://localhost:8080/"
        },
        "id": "XWFi2U_6Swuy",
        "outputId": "271f7021-3ec7-4b31-d1e3-7231e3a9d844"
      },
      "execution_count": 39,
      "outputs": [
        {
          "output_type": "stream",
          "name": "stdout",
          "text": [
            "[1, 2, '30', 3, 4, 5, 6, 7, 8, 9, 10]\n"
          ]
        }
      ]
    },
    {
      "cell_type": "markdown",
      "source": [
        "Write a Python program to reverse the order of the items in the array. Original array: numbers = [5,4,3,2,1]"
      ],
      "metadata": {
        "id": "9VXAmKlXTlcz"
      }
    },
    {
      "cell_type": "code",
      "source": [
        "order = [5,4,3,2,1]\n",
        "print (\"order: \", order)\n",
        "order.reverse()\n",
        "print (\"reverse order: \", order)"
      ],
      "metadata": {
        "colab": {
          "base_uri": "https://localhost:8080/"
        },
        "id": "CsZdDY1-TyLR",
        "outputId": "29b1dfa0-b960-44eb-e375-67e68fc734c1"
      },
      "execution_count": 9,
      "outputs": [
        {
          "output_type": "stream",
          "name": "stdout",
          "text": [
            "order:  [5, 4, 3, 2, 1]\n",
            "reverse order:  [1, 2, 3, 4, 5]\n"
          ]
        }
      ]
    },
    {
      "cell_type": "markdown",
      "source": [
        "Write a Python program to get the length of the array. Original array: numbers = [5,4,3,2,1]"
      ],
      "metadata": {
        "id": "k2P7277ZUqP0"
      }
    },
    {
      "cell_type": "code",
      "source": [
        "number = [5,4,3,2,1]\n",
        "x = len(number) \n",
        "print(x)"
      ],
      "metadata": {
        "colab": {
          "base_uri": "https://localhost:8080/"
        },
        "id": "c5fR8g6dU2FC",
        "outputId": "c773287f-464a-4170-8490-880e8a921d85"
      },
      "execution_count": 10,
      "outputs": [
        {
          "output_type": "stream",
          "name": "stdout",
          "text": [
            "5\n"
          ]
        }
      ]
    }
  ]
}