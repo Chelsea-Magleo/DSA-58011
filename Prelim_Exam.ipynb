{
  "nbformat": 4,
  "nbformat_minor": 0,
  "metadata": {
    "colab": {
      "provenance": [],
      "authorship_tag": "ABX9TyMQ3h62ImO7OKed7wLWmz7w",
      "include_colab_link": true
    },
    "kernelspec": {
      "name": "python3",
      "display_name": "Python 3"
    },
    "language_info": {
      "name": "python"
    }
  },
  "cells": [
    {
      "cell_type": "markdown",
      "metadata": {
        "id": "view-in-github",
        "colab_type": "text"
      },
      "source": [
        "<a href=\"https://colab.research.google.com/github/Chelsea-Magleo/DSA-58011/blob/main/Prelim_Exam.ipynb\" target=\"_parent\"><img src=\"https://colab.research.google.com/assets/colab-badge.svg\" alt=\"Open In Colab\"/></a>"
      ]
    },
    {
      "cell_type": "code",
      "execution_count": 12,
      "metadata": {
        "colab": {
          "base_uri": "https://localhost:8080/"
        },
        "id": "uvpcnGE9xmkY",
        "outputId": "ec003054-960c-4ae3-a4a7-bdf1b3dec9f0"
      },
      "outputs": [
        {
          "output_type": "stream",
          "name": "stdout",
          "text": [
            "Less than 10 but greater than 1 comopsition numbers: [4, 6, 8, 9]\n",
            "Length of composition numbers: 4\n"
          ]
        }
      ],
      "source": [
        "composite = [4,6,8,9]\n",
        "print(\"Less than 10 but greater than 1 comopsition numbers:\",composite)\n",
        "print(\"Length of composition numbers:\",len(composite))"
      ]
    }
  ]
}