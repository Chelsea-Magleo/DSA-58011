{
  "nbformat": 4,
  "nbformat_minor": 0,
  "metadata": {
    "colab": {
      "name": "Practical Lab Exam.ipynb",
      "provenance": [],
      "collapsed_sections": [],
      "authorship_tag": "ABX9TyODhDT/JrYJqR0vUecDbEDe",
      "include_colab_link": true
    },
    "kernelspec": {
      "name": "python3",
      "display_name": "Python 3"
    },
    "language_info": {
      "name": "python"
    }
  },
  "cells": [
    {
      "cell_type": "markdown",
      "metadata": {
        "id": "view-in-github",
        "colab_type": "text"
      },
      "source": [
        "<a href=\"https://colab.research.google.com/github/Chelsea-Magleo/DSA-58011/blob/main/Practical_Lab_Exam.ipynb\" target=\"_parent\"><img src=\"https://colab.research.google.com/assets/colab-badge.svg\" alt=\"Open In Colab\"/></a>"
      ]
    },
    {
      "cell_type": "code",
      "execution_count": 37,
      "metadata": {
        "id": "9sMD7zzOLQ31"
      },
      "outputs": [],
      "source": [
        "class Scores:\n",
        "  def __init__(self, scores):\n",
        "    self.scores = scores\n",
        "\n",
        "  def odd(self):\n",
        "    O = int(input())\n",
        "    print(self.scores + self.scores + self.scores)\n",
        "\n",
        "  def Even(self):\n",
        "    print(self.scores)\n",
        "\n",
        "class Odd(Scores):\n",
        "  def odd(self):\n",
        "    O = int(input())\n",
        "    print('The test result:' + O)\n",
        "\n",
        "class even (Scores):\n",
        "  def Even(self):\n",
        "    E = int(input(self.scores))\n",
        "    print('The test scores are: ')\n",
        "\n"
      ]
    },
    {
      "cell_type": "code",
      "source": [
        "score1 = int(input())\n",
        "if (score1 % 2) == 0:\n",
        "  print(\"The test result: {0}\".format(score1))\n",
        "else:\n",
        "  print(\"The test score: {0}\".format(score1))\n",
        "score2 = int(input())\n",
        "if (score2 % 2) == 0:\n",
        "  print(\"The test result: {0}\".format(score2))\n",
        "else:\n",
        "  print(\"The test score: {0}\".format(score2))\n",
        "score3 = int(input())\n",
        "if (score3 % 2) == 0:\n",
        "  print(\"The test result: {0}\".format(score3))\n",
        "else:\n",
        "  print(\"The test score: {0}\".format(score3))\n",
        "score4 = int(input())\n",
        "if (score4 % 2) == 0:\n",
        "  print(\"The test result: {0}\".format(score4))\n",
        "else:\n",
        "  print(\"The test score: {0}\".format(score4))\n",
        "score5 = int(input())\n",
        "if (score5 % 2) == 0:\n",
        "  print(\"The test result: {0}\".format(score5))\n",
        "else:\n",
        "  print(\"The test score: {0}\".format(score5))\n",
        "score6 = int(input())\n",
        "if (score6 % 2) == 0:\n",
        "  print(\"The test result: {0}\".format(score6))\n",
        "else:\n",
        "  print(\"The test score: {0}\".format(score6))\n",
        "\n",
        "\n"
      ],
      "metadata": {
        "colab": {
          "base_uri": "https://localhost:8080/"
        },
        "id": "IDwKaiUOiiMN",
        "outputId": "adca3e9b-ea05-4f8e-c81b-c05f80e9df66"
      },
      "execution_count": 36,
      "outputs": [
        {
          "output_type": "stream",
          "name": "stdout",
          "text": [
            "49\n",
            "The test score: 49\n",
            "87\n",
            "The test score: 87\n",
            "75\n",
            "The test score: 75\n",
            "26\n",
            "The test result: 26\n",
            "98\n",
            "The test result: 98\n",
            "62\n",
            "The test result: 62\n"
          ]
        }
      ]
    }
  ]
}