{
  "nbformat": 4,
  "nbformat_minor": 0,
  "metadata": {
    "colab": {
      "provenance": [],
      "authorship_tag": "ABX9TyMmkdB7qUrzJCzU+F35c8sH",
      "include_colab_link": true
    },
    "kernelspec": {
      "name": "python3",
      "display_name": "Python 3"
    },
    "language_info": {
      "name": "python"
    }
  },
  "cells": [
    {
      "cell_type": "markdown",
      "metadata": {
        "id": "view-in-github",
        "colab_type": "text"
      },
      "source": [
        "<a href=\"https://colab.research.google.com/github/Chelsea-Magleo/DSA-58011/blob/main/Activity_2.ipynb\" target=\"_parent\"><img src=\"https://colab.research.google.com/assets/colab-badge.svg\" alt=\"Open In Colab\"/></a>"
      ]
    },
    {
      "cell_type": "code",
      "execution_count": 3,
      "metadata": {
        "colab": {
          "base_uri": "https://localhost:8080/"
        },
        "id": "BAFB7Nj-MJq8",
        "outputId": "43db62c9-713b-4df9-ab98-d7bfb3a439e3"
      },
      "outputs": [
        {
          "output_type": "stream",
          "name": "stdout",
          "text": [
            "A\n",
            "E\n",
            "I\n",
            "O\n",
            "U\n"
          ]
        }
      ],
      "source": [
        "class Node:\n",
        "  def __init__(self, data):\n",
        "    self.data = data\n",
        "    self.next = None\n",
        "\n",
        "class LinkedList:\n",
        "  def __init__(self):\n",
        "    self.head = None\n",
        "  def printList(self):\n",
        "    vowel = self.head\n",
        "    while(vowel):\n",
        "      print(vowel.data)\n",
        "      vowel = vowel.next\n",
        "\n",
        "if __name__=='__main__':\n",
        "  llist = LinkedList()\n",
        "  llist.head = Node('A')\n",
        "  second = Node('E')\n",
        "  third = Node('I')\n",
        "  fourth = Node('O')\n",
        "  fifth = Node('U')\n",
        "\n",
        "llist.head.next = second;\n",
        "second.next = third;\n",
        "third.next = fourth;\n",
        "fourth.next = fifth\n",
        "\n",
        "llist.printList()"
      ]
    }
  ]
}