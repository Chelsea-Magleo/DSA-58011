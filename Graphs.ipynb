{
  "nbformat": 4,
  "nbformat_minor": 0,
  "metadata": {
    "colab": {
      "provenance": [],
      "authorship_tag": "ABX9TyPJgzvZ8s5Qm63ml3rXw0IN",
      "include_colab_link": true
    },
    "kernelspec": {
      "name": "python3",
      "display_name": "Python 3"
    },
    "language_info": {
      "name": "python"
    }
  },
  "cells": [
    {
      "cell_type": "markdown",
      "metadata": {
        "id": "view-in-github",
        "colab_type": "text"
      },
      "source": [
        "<a href=\"https://colab.research.google.com/github/Chelsea-Magleo/DSA-58011/blob/main/Graphs.ipynb\" target=\"_parent\"><img src=\"https://colab.research.google.com/assets/colab-badge.svg\" alt=\"Open In Colab\"/></a>"
      ]
    },
    {
      "cell_type": "code",
      "execution_count": 2,
      "metadata": {
        "colab": {
          "base_uri": "https://localhost:8080/"
        },
        "id": "sqYQeb2TYv1S",
        "outputId": "56ffce81-cd8b-42b2-f6c9-991228ef51e1"
      },
      "outputs": [
        {
          "output_type": "stream",
          "name": "stdout",
          "text": [
            "{'a': ['b', 'c'], 'b': ['a', 'd'], 'c': ['a', 'd'], 'd': ['b', 'c', 'e'], 'e': ['e']}\n"
          ]
        }
      ],
      "source": [
        "#Data Elements using Dictionaries to implement Graphs\n",
        "graph = {\n",
        "    'a' : ['b','c'],\n",
        "    'b' : ['a', 'd'],\n",
        "    'c' : ['a', 'd'],\n",
        "    'd' : ['b', 'c', 'e'],\n",
        "    'e' : ['e']\n",
        "\n",
        "\n",
        "}\n",
        "print(graph)"
      ]
    },
    {
      "cell_type": "code",
      "source": [
        "#Application 1\n",
        "graph = {\n",
        "    1 : [2, 3, 4, 5],\n",
        "    2 : [1, 3, 4, 5],\n",
        "    3 : [1, 2, 4, 5],\n",
        "    4 : [1, 2, 3, 5],\n",
        "    5 : [1, 2, 3, 4],\n",
        "\n",
        "\n",
        "}\n",
        "print(graph)"
      ],
      "metadata": {
        "colab": {
          "base_uri": "https://localhost:8080/"
        },
        "id": "VwqENjBYdDZy",
        "outputId": "09631c26-0a6f-4a1c-b717-0605ee884150"
      },
      "execution_count": 5,
      "outputs": [
        {
          "output_type": "stream",
          "name": "stdout",
          "text": [
            "{1: [2, 3, 4, 5], 2: [1, 3, 4, 5], 3: [1, 2, 4, 5], 4: [1, 2, 3, 5], 5: [1, 2, 3, 4]}\n"
          ]
        }
      ]
    }
  ]
}