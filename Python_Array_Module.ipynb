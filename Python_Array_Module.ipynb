{
  "nbformat": 4,
  "nbformat_minor": 0,
  "metadata": {
    "colab": {
      "provenance": [],
      "authorship_tag": "ABX9TyOSSOSoF+iixp0Op1u8XCEQ",
      "include_colab_link": true
    },
    "kernelspec": {
      "name": "python3",
      "display_name": "Python 3"
    },
    "language_info": {
      "name": "python"
    }
  },
  "cells": [
    {
      "cell_type": "markdown",
      "metadata": {
        "id": "view-in-github",
        "colab_type": "text"
      },
      "source": [
        "<a href=\"https://colab.research.google.com/github/Chelsea-Magleo/DSA-58011/blob/main/Python_Array_Module.ipynb\" target=\"_parent\"><img src=\"https://colab.research.google.com/assets/colab-badge.svg\" alt=\"Open In Colab\"/></a>"
      ]
    },
    {
      "cell_type": "markdown",
      "source": [
        "Example 1"
      ],
      "metadata": {
        "id": "hLWlH6S1DseW"
      }
    },
    {
      "cell_type": "code",
      "execution_count": 26,
      "metadata": {
        "colab": {
          "base_uri": "https://localhost:8080/"
        },
        "id": "qFD0_vJiB0ew",
        "outputId": "303025cf-ecba-4925-c828-12b17965863a"
      },
      "outputs": [
        {
          "output_type": "stream",
          "name": "stdout",
          "text": [
            "i\n",
            "f\n"
          ]
        }
      ],
      "source": [
        "import array\n",
        "array.typecodes #get all typecodes\n",
        "a = array.array('i', [1,2,3,4,5,6]) #initializing array a\n",
        "b = array.array('f', [1.5,2.5,3.5,4.5,5.5,6.5,7.5,8.5,9.5,10.5]) #initializing array b\n",
        "print(a.typecode) #getting the typecode of a\n",
        "print(b.typecode) #getting the typecode of b"
      ]
    },
    {
      "cell_type": "markdown",
      "source": [
        "Example 2: Create an array of elements of float/decimal number"
      ],
      "metadata": {
        "id": "5ALuN6j2Fev9"
      }
    },
    {
      "cell_type": "code",
      "source": [
        "import numpy as np\n",
        "rounded_array = np.round([1.5,2.5,3.5,4.5,5.5,6.5,7.5,8.5,9.5,10.5], decimals=1)\n",
        "print(rounded_array)"
      ],
      "metadata": {
        "colab": {
          "base_uri": "https://localhost:8080/"
        },
        "id": "_iVqU12zFmrN",
        "outputId": "707e776a-9760-4e77-f336-032be95f4c10"
      },
      "execution_count": 49,
      "outputs": [
        {
          "output_type": "stream",
          "name": "stdout",
          "text": [
            "[ 1.5  2.5  3.5  4.5  5.5  6.5  7.5  8.5  9.5 10.5]\n"
          ]
        }
      ]
    },
    {
      "cell_type": "markdown",
      "source": [
        "Example 2"
      ],
      "metadata": {
        "id": "4lsGEiXNIh2U"
      }
    },
    {
      "cell_type": "code",
      "source": [
        "a = array.array('f',[1,2,3,4,5,6,7,8,9,10])\n",
        "print(a)"
      ],
      "metadata": {
        "colab": {
          "base_uri": "https://localhost:8080/"
        },
        "id": "nvjNFEd3IhWD",
        "outputId": "98350f7f-3d86-4167-84d0-16952ed6085d"
      },
      "execution_count": 27,
      "outputs": [
        {
          "output_type": "stream",
          "name": "stdout",
          "text": [
            "array('f', [1.0, 2.0, 3.0, 4.0, 5.0, 6.0, 7.0, 8.0, 9.0, 10.0])\n"
          ]
        }
      ]
    },
    {
      "cell_type": "markdown",
      "source": [
        "Insert an element: 11 to the first index of the array a"
      ],
      "metadata": {
        "id": "Y45l9WbnKA3a"
      }
    },
    {
      "cell_type": "code",
      "source": [
        "a.insert(0,11)\n",
        "print(a)\n",
        "\n",
        "b[-1] = 12\n",
        "print(b)"
      ],
      "metadata": {
        "colab": {
          "base_uri": "https://localhost:8080/"
        },
        "id": "zOCse_xZKFLH",
        "outputId": "5685f554-d413-42fb-c227-56afde2a7e9d"
      },
      "execution_count": 30,
      "outputs": [
        {
          "output_type": "stream",
          "name": "stdout",
          "text": [
            "array('f', [11.0, 11.0, 1.0, 2.0, 3.0, 4.0, 5.0, 6.0, 7.0, 8.0, 9.0, 10.0])\n",
            "array('f', [1.5, 2.5, 3.5, 4.5, 5.5, 6.5, 7.5, 8.5, 9.5, 12.0])\n"
          ]
        }
      ]
    },
    {
      "cell_type": "code",
      "source": [
        "a.insert(0,11)\n",
        "print(a)\n",
        "b.insert(-1,11)\n",
        "print(b)"
      ],
      "metadata": {
        "colab": {
          "base_uri": "https://localhost:8080/"
        },
        "id": "_Zv8ADvPKy5J",
        "outputId": "2971a058-af7f-4d93-b836-01998b310e60"
      },
      "execution_count": 31,
      "outputs": [
        {
          "output_type": "stream",
          "name": "stdout",
          "text": [
            "array('f', [11.0, 11.0, 11.0, 1.0, 2.0, 3.0, 4.0, 5.0, 6.0, 7.0, 8.0, 9.0, 10.0])\n",
            "array('f', [1.5, 2.5, 3.5, 4.5, 5.5, 6.5, 7.5, 8.5, 9.5, 11.0, 12.0])\n"
          ]
        }
      ]
    },
    {
      "cell_type": "markdown",
      "source": [
        "What is the output of these codes?"
      ],
      "metadata": {
        "id": "IzEAFLlwLHJK"
      }
    },
    {
      "cell_type": "code",
      "source": [
        "from array import array #importing array from array module\n",
        "a = array('i',[4,5,6,7]) #initializing array\n",
        "a.insert(1,2) #insert element: 2 at index: 1\n",
        "a #printing array a\n",
        "array('i',[4,2,5,6,7])\n",
        "a.insert(-1,0) #insert element: 0 at index: -1\n",
        "a\n",
        "a.insert(10,-1) #insert element:-1 at index:10, this is out of range\n",
        "a\n",
        "array('i', [4,2,5,6,0,7,-1])"
      ],
      "metadata": {
        "colab": {
          "base_uri": "https://localhost:8080/"
        },
        "id": "KAoCvglaLLDX",
        "outputId": "e48cdd72-0c45-4c32-8878-520fc5781454"
      },
      "execution_count": 36,
      "outputs": [
        {
          "output_type": "execute_result",
          "data": {
            "text/plain": [
              "array('i', [4, 2, 5, 6, 0, 7, -1])"
            ]
          },
          "metadata": {},
          "execution_count": 36
        }
      ]
    },
    {
      "cell_type": "code",
      "source": [
        "import array\n",
        "a = array.array('i',[1,2,3,4,5,6,7,8,9,10])\n",
        "print(a)\n",
        "a.insert(10,-1) #out of range\n",
        "print(a)"
      ],
      "metadata": {
        "colab": {
          "base_uri": "https://localhost:8080/"
        },
        "id": "LYyLUWd5MUVX",
        "outputId": "4c62cd46-760f-4884-ee86-687d900f7da8"
      },
      "execution_count": 44,
      "outputs": [
        {
          "output_type": "stream",
          "name": "stdout",
          "text": [
            "array('i', [1, 2, 3, 4, 5, 6, 7, 8, 9, 10])\n",
            "array('i', [1, 2, 3, 4, 5, 6, 7, 8, 9, 10, -1])\n"
          ]
        }
      ]
    },
    {
      "cell_type": "markdown",
      "source": [
        "Example 3"
      ],
      "metadata": {
        "id": "LuZJBauPOYzo"
      }
    },
    {
      "cell_type": "code",
      "source": [
        "#Node class\n",
        "class Node:\n",
        "  #function to initialize the node object\n",
        "  def __init__(self, data):\n",
        "    self.data = data #Assign data\n",
        "    self.next = None #Initialize\n",
        "    #next as null\n",
        "\n",
        "  #Linked List class\n",
        "  class LinkedList:\n",
        "\n",
        "    #Function to initialized the Linked\n",
        "    #List object\n",
        "    def __init__(self):\n",
        "      self.head = None"
      ],
      "metadata": {
        "id": "k--uzSPBOZ-3"
      },
      "execution_count": 51,
      "outputs": []
    },
    {
      "cell_type": "markdown",
      "source": [
        "Example 4: Linked Lists"
      ],
      "metadata": {
        "id": "bkY-4Ix9PwZH"
      }
    },
    {
      "cell_type": "code",
      "source": [
        "#A simple Python program to introduce a linked list\n",
        "#Node class\n",
        "class Node:\n",
        "   #Function to initialized the node object\n",
        "   def __init__(self, data):\n",
        "     self.data = data #Assign data\n",
        "     self.next = None #Initialized next as null\n",
        "\n",
        "#Linked list class contains a Node object\n",
        "class LinkedList:\n",
        "\n",
        "    #Function to initialized head\n",
        "    def __init__(self):\n",
        "      self.head = None #Initialized the head of the Node\n",
        "    def printList(self):\n",
        "      temp = self.head\n",
        "      while(temp):\n",
        "        print(temp.data)\n",
        "        temp = temp.next\n",
        "\n",
        "#Code execution starts here\n",
        "if __name__=='__main__':\n",
        "\n",
        "    #Start with the empty list\n",
        "    llist = LinkedList()\n",
        "    llist.head = Node(1)\n",
        "    second = Node(2)\n",
        "    third = Node(3)\n",
        "\n",
        "llist.head.next = second; #Link first node with second\n",
        "second.next = third; #Link second node with the third node\n",
        "\n",
        "print(llist)\n",
        "llist.printList()"
      ],
      "metadata": {
        "colab": {
          "base_uri": "https://localhost:8080/"
        },
        "id": "29Q6thHCPx5H",
        "outputId": "9e7df585-509d-4fec-80f6-55a1b4262b89"
      },
      "execution_count": 64,
      "outputs": [
        {
          "output_type": "stream",
          "name": "stdout",
          "text": [
            "<__main__.LinkedList object at 0x7f183dffad10>\n",
            "1\n",
            "2\n",
            "3\n"
          ]
        }
      ]
    }
  ]
}